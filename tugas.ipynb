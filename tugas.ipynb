{
 "cells": [
  {
   "cell_type": "code",
   "execution_count": 1,
   "metadata": {},
   "outputs": [
    {
     "name": "stdout",
     "output_type": "stream",
     "text": [
      "Collecting pandas\n",
      "  Using cached pandas-2.2.3-cp313-cp313-win_amd64.whl.metadata (19 kB)\n",
      "Requirement already satisfied: numpy>=1.26.0 in c:\\users\\user\\appdata\\local\\programs\\python\\python313\\lib\\site-packages (from pandas) (2.2.0)\n",
      "Requirement already satisfied: python-dateutil>=2.8.2 in c:\\users\\user\\appdata\\roaming\\python\\python313\\site-packages (from pandas) (2.9.0.post0)\n",
      "Collecting pytz>=2020.1 (from pandas)\n",
      "  Using cached pytz-2024.2-py2.py3-none-any.whl.metadata (22 kB)\n",
      "Collecting tzdata>=2022.7 (from pandas)\n",
      "  Using cached tzdata-2024.2-py2.py3-none-any.whl.metadata (1.4 kB)\n",
      "Requirement already satisfied: six>=1.5 in c:\\users\\user\\appdata\\roaming\\python\\python313\\site-packages (from python-dateutil>=2.8.2->pandas) (1.17.0)\n",
      "Using cached pandas-2.2.3-cp313-cp313-win_amd64.whl (11.5 MB)\n",
      "Using cached pytz-2024.2-py2.py3-none-any.whl (508 kB)\n",
      "Using cached tzdata-2024.2-py2.py3-none-any.whl (346 kB)\n",
      "Installing collected packages: pytz, tzdata, pandas\n",
      "Successfully installed pandas-2.2.3 pytz-2024.2 tzdata-2024.2\n"
     ]
    }
   ],
   "source": [
    "!pip install pandas"
   ]
  },
  {
   "cell_type": "code",
   "execution_count": 2,
   "metadata": {},
   "outputs": [
    {
     "name": "stdout",
     "output_type": "stream",
     "text": [
      "Collecting openpyxl\n",
      "  Using cached openpyxl-3.1.5-py2.py3-none-any.whl.metadata (2.5 kB)\n",
      "Collecting et-xmlfile (from openpyxl)\n",
      "  Using cached et_xmlfile-2.0.0-py3-none-any.whl.metadata (2.7 kB)\n",
      "Using cached openpyxl-3.1.5-py2.py3-none-any.whl (250 kB)\n",
      "Using cached et_xmlfile-2.0.0-py3-none-any.whl (18 kB)\n",
      "Installing collected packages: et-xmlfile, openpyxl\n",
      "Successfully installed et-xmlfile-2.0.0 openpyxl-3.1.5\n"
     ]
    }
   ],
   "source": [
    "!pip install openpyxl"
   ]
  },
  {
   "cell_type": "code",
   "execution_count": 3,
   "metadata": {},
   "outputs": [
    {
     "name": "stdout",
     "output_type": "stream",
     "text": [
      "\n",
      "JUMLAH PRODUKSI SAMPAH BERDASARKAN KABUPATEN/KOTA DI JAWA BARAT:\n",
      "    nama_kabupaten_kota  jumlah_produksi_sampah  tahun\n",
      "0       KABUPATEN BOGOR                 1511.15   2015\n",
      "1    KABUPATEN SUKABUMI                  419.01   2015\n",
      "2     KABUPATEN CIANJUR                  981.41   2015\n",
      "3     KABUPATEN BANDUNG                 1895.94   2015\n",
      "4       KABUPATEN GARUT                  464.74   2015\n",
      "..                  ...                     ...    ...\n",
      "238         KOTA BEKASI                     NaN   2023\n",
      "239          KOTA DEPOK                     NaN   2023\n",
      "240         KOTA CIMAHI                     NaN   2023\n",
      "241    KOTA TASIKMALAYA                     NaN   2023\n",
      "242         KOTA BANJAR                     NaN   2023\n",
      "\n",
      "[243 rows x 3 columns]\n"
     ]
    }
   ],
   "source": [
    "import pandas as pd\n",
    "\n",
    "# Soal No.1 Membuat DataFrame dari data jumlah produksi sampah berdasarkan Kabupaten/Kota di Jawa Barat\n",
    "df_excel = pd.read_excel('data_sampah.xlsx')  \n",
    "df_excel = df_excel[['nama_kabupaten_kota', 'jumlah_produksi_sampah', 'tahun']]\n",
    "\n",
    "print(\"\\nJUMLAH PRODUKSI SAMPAH BERDASARKAN KABUPATEN/KOTA DI JAWA BARAT:\")\n",
    "print(df_excel)"
   ]
  },
  {
   "cell_type": "code",
   "execution_count": null,
   "metadata": {},
   "outputs": [],
   "source": [
    "# Soal No.2 hitunglah total produksi sampah di seluruh Kabupaten/Kota di Jawa Barat untuk tahun tertentu.\n",
    "total_sampah = 0\n",
    "df_excel['jumlah_produksi_sampah'] = df_excel['jumlah_produksi_sampah'].fillna(0)\n",
    "\n",
    "tahun_input = int(input(\"Masukkan tahun yang ingin dihitung total produksinya: \"))\n",
    "\n",
    "for index, row in df_excel.iterrows():\n",
    "    if row['tahun'] == tahun_input:  \n",
    "        total_sampah += row['jumlah_produksi_sampah']\n",
    "print(f\"\\nTotal produksi sampah di seluruh Kabupaten/Kota pada tahun {tahun_input}: {total_sampah:.2f} ton\")"
   ]
  }
 ],
 "metadata": {
  "kernelspec": {
   "display_name": "Python 3",
   "language": "python",
   "name": "python3"
  },
  "language_info": {
   "codemirror_mode": {
    "name": "ipython",
    "version": 3
   },
   "file_extension": ".py",
   "mimetype": "text/x-python",
   "name": "python",
   "nbconvert_exporter": "python",
   "pygments_lexer": "ipython3",
   "version": "3.13.1"
  }
 },
 "nbformat": 4,
 "nbformat_minor": 2
}
